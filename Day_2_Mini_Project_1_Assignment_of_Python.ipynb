{
  "nbformat": 4,
  "nbformat_minor": 0,
  "metadata": {
    "colab": {
      "provenance": [],
      "authorship_tag": "ABX9TyOUBu9glT10B1AqIXEFj/iW",
      "include_colab_link": true
    },
    "kernelspec": {
      "name": "python3",
      "display_name": "Python 3"
    },
    "language_info": {
      "name": "python"
    }
  },
  "cells": [
    {
      "cell_type": "markdown",
      "metadata": {
        "id": "view-in-github",
        "colab_type": "text"
      },
      "source": [
        "<a href=\"https://colab.research.google.com/github/RishabhXYZA/Mini-project-1-Python-assignment-Thapar-Summer-School/blob/main/Day_2_Mini_Project_1_Assignment_of_Python.ipynb\" target=\"_parent\"><img src=\"https://colab.research.google.com/assets/colab-badge.svg\" alt=\"Open In Colab\"/></a>"
      ]
    },
    {
      "cell_type": "code",
      "execution_count": null,
      "metadata": {
        "id": "vmILyUYeqTBB"
      },
      "outputs": [],
      "source": [
        "#Mini Project-01: Python Assignment"
      ]
    },
    {
      "cell_type": "code",
      "source": [
        "#Q1\n",
        "L=[11,12,13,14]\n",
        "print(L)"
      ],
      "metadata": {
        "colab": {
          "base_uri": "https://localhost:8080/"
        },
        "id": "LhgdIdthqa_c",
        "outputId": "71312ca0-e76c-453a-f7fe-f5f427dfda80"
      },
      "execution_count": null,
      "outputs": [
        {
          "output_type": "stream",
          "name": "stdout",
          "text": [
            "[11, 12, 13, 14]\n"
          ]
        }
      ]
    },
    {
      "cell_type": "code",
      "source": [
        "#i)Add elements 50 and 60\n",
        "L.append(50)\n",
        "L.append(60)\n",
        "print(L)"
      ],
      "metadata": {
        "colab": {
          "base_uri": "https://localhost:8080/"
        },
        "id": "RKq-mMUdqbCM",
        "outputId": "a0ae34c2-7a05-45c2-f0fc-5d848f65214b"
      },
      "execution_count": null,
      "outputs": [
        {
          "output_type": "stream",
          "name": "stdout",
          "text": [
            "[11, 12, 13, 14, 50, 60]\n"
          ]
        }
      ]
    },
    {
      "cell_type": "code",
      "source": [
        "#ii)Remove elements 11 and 13\n",
        "L.remove(11)\n",
        "L.remove(13)\n",
        "print(\"List after removing 11 and 13 is -->\",L)"
      ],
      "metadata": {
        "colab": {
          "base_uri": "https://localhost:8080/"
        },
        "id": "pNXEq25KqbFQ",
        "outputId": "67cee3f5-4d91-4f9a-ee56-87fcff35d66f"
      },
      "execution_count": null,
      "outputs": [
        {
          "output_type": "stream",
          "name": "stdout",
          "text": [
            "List after removing 11 and 13 is --> [12, 14, 50, 60]\n"
          ]
        }
      ]
    },
    {
      "cell_type": "code",
      "source": [
        "#iii)Sort in ascending order\n",
        "L.sort()\n",
        "print(\"List after sorting in ascending order -->\",L)\n",
        "#iv)Sort in descending order\n",
        "L.sort(reverse=True)\n",
        "print(\"List after sorting it in descending order -->\",L)"
      ],
      "metadata": {
        "colab": {
          "base_uri": "https://localhost:8080/"
        },
        "id": "hocCE92arBNq",
        "outputId": "c7ddbc21-cccc-4642-f1d6-3306d6843cae"
      },
      "execution_count": null,
      "outputs": [
        {
          "output_type": "stream",
          "name": "stdout",
          "text": [
            "List after sorting in ascending order --> [12, 14, 50, 60]\n",
            "List after sorting it in descending order --> [60, 50, 14, 12]\n"
          ]
        }
      ]
    },
    {
      "cell_type": "code",
      "source": [
        "#v)\n",
        "#vi)Count the number of elements present in L\n",
        "print(len(L))"
      ],
      "metadata": {
        "colab": {
          "base_uri": "https://localhost:8080/"
        },
        "id": "Sxqs6WrorBQh",
        "outputId": "a38629ee-880d-4f10-cb34-649ba8c2fdbe"
      },
      "execution_count": null,
      "outputs": [
        {
          "output_type": "stream",
          "name": "stdout",
          "text": [
            "4\n"
          ]
        }
      ]
    },
    {
      "cell_type": "code",
      "source": [
        "##vii) Sum of all elements in L\n",
        "sum=0\n",
        "for i in L:\n",
        "    sum+=i\n",
        "print(\"Sum of all elements present in L -->\",sum)\n",
        "\n",
        "#viii) Sum of all odd elements in L\n",
        "sum1=0\n",
        "for i in L:\n",
        "  if i%2==1:\n",
        "    sum1+=i\n",
        "print(\"Sum of all odd elements present in L-->\",sum1)\n",
        "\n",
        "#ix)Sum of all even elements in L\n",
        "sum2=0\n",
        "for i in L:\n",
        "  if i%2==0:\n",
        "    sum2+=i\n",
        "print(\"Sum of all even elements present in L-->\",sum2)\n"
      ],
      "metadata": {
        "colab": {
          "base_uri": "https://localhost:8080/"
        },
        "id": "xZN2r13CrBTW",
        "outputId": "cecbed4b-c66d-4f07-d9f0-459bd73f64d0"
      },
      "execution_count": null,
      "outputs": [
        {
          "output_type": "stream",
          "name": "stdout",
          "text": [
            "Sum of all elements present in L --> 136\n",
            "Sum of all odd elements present in L--> 0\n",
            "Sum of all even elements present in L--> 136\n"
          ]
        }
      ]
    },
    {
      "cell_type": "code",
      "source": [
        "#xi) clear all elements in L\n",
        "L.clear()\n",
        "print(\"List after using clear command in list -->\",L)"
      ],
      "metadata": {
        "colab": {
          "base_uri": "https://localhost:8080/"
        },
        "id": "6MryI6BurBsE",
        "outputId": "ae11bb36-4b01-4623-e045-2d2a908bc503"
      },
      "execution_count": null,
      "outputs": [
        {
          "output_type": "stream",
          "name": "stdout",
          "text": [
            "List after using clear command in list --> []\n"
          ]
        }
      ]
    },
    {
      "cell_type": "code",
      "source": [
        "#xii) Wap to delete L\n",
        "del L\n",
        "print(\"List L is deleted\")"
      ],
      "metadata": {
        "colab": {
          "base_uri": "https://localhost:8080/"
        },
        "id": "EfUpHSeTrBvO",
        "outputId": "e15a7cee-41d2-41b8-cfdd-e6b0d2942335"
      },
      "execution_count": null,
      "outputs": [
        {
          "output_type": "stream",
          "name": "stdout",
          "text": [
            "List L is deleted\n"
          ]
        }
      ]
    },
    {
      "cell_type": "markdown",
      "source": [
        "**Q2 D={1:5.6,2:7.8,3:6.6,4:8.7,5:7.7}**"
      ],
      "metadata": {
        "id": "uERhCWW1uq4y"
      }
    },
    {
      "cell_type": "code",
      "source": [
        "D={1:5.6,2:7.8,3:6.6,4:8.7,5:7.7}\n",
        "print(\"Dictionary -->\",D)"
      ],
      "metadata": {
        "colab": {
          "base_uri": "https://localhost:8080/"
        },
        "id": "sDOhIWcou3k_",
        "outputId": "cd445aed-8fc5-42b7-b2ad-b80b9760ea5d"
      },
      "execution_count": null,
      "outputs": [
        {
          "output_type": "stream",
          "name": "stdout",
          "text": [
            "Dictionary --> {1: 5.6, 2: 7.8, 3: 6.6, 4: 8.7, 5: 7.7}\n"
          ]
        }
      ]
    },
    {
      "cell_type": "code",
      "source": [
        "#i)add new entry key=8 and value=8.8\n",
        "D[8]=8.8\n",
        "print(\"After adding new entry -->\",D)"
      ],
      "metadata": {
        "colab": {
          "base_uri": "https://localhost:8080/"
        },
        "id": "stXtAz1iu30R",
        "outputId": "b294307b-da7c-4516-b3a3-0ca475843d5f"
      },
      "execution_count": null,
      "outputs": [
        {
          "output_type": "stream",
          "name": "stdout",
          "text": [
            "After adding new entry --> {1: 5.6, 2: 7.8, 3: 6.6, 4: 8.7, 5: 7.7, 8: 8.8}\n"
          ]
        }
      ]
    },
    {
      "cell_type": "code",
      "source": [
        "#ii)remove key=2\n",
        "del D[2]\n",
        "print(\"After removing the key=2 -->\",D)\n"
      ],
      "metadata": {
        "colab": {
          "base_uri": "https://localhost:8080/"
        },
        "id": "kpBN1aiCv2Ex",
        "outputId": "46b23325-1e0c-4742-ebf4-02ac900dd673"
      },
      "execution_count": null,
      "outputs": [
        {
          "output_type": "stream",
          "name": "stdout",
          "text": [
            "After removing the key=2 --> {1: 5.6, 3: 6.6, 4: 8.7, 5: 7.7, 8: 8.8}\n"
          ]
        }
      ]
    },
    {
      "cell_type": "code",
      "source": [
        "#iii)Check whether 6 key is present in D\n",
        "if 6 in D:\n",
        "    print(\"Key is present\")\n",
        "else:\n",
        "    print(\"Key is not present\")\n",
        "#iv)Count the number of elements in D\n",
        "print(\"Length of dictionary -->\",len(D))"
      ],
      "metadata": {
        "colab": {
          "base_uri": "https://localhost:8080/"
        },
        "id": "fq_gz5ukv2Ma",
        "outputId": "97fbb3da-e5f6-44cc-ec29-21ff6bf9be98"
      },
      "execution_count": null,
      "outputs": [
        {
          "output_type": "stream",
          "name": "stdout",
          "text": [
            "Key is not present\n",
            "Length of dictionary --> 5\n"
          ]
        }
      ]
    },
    {
      "cell_type": "code",
      "source": [
        "#v) add al values present in D\n",
        "sum3=0\n",
        "for i in D.values():\n",
        "    sum3+=i\n",
        "print(\"Sum of all values present in D -->\",sum3)"
      ],
      "metadata": {
        "colab": {
          "base_uri": "https://localhost:8080/"
        },
        "id": "ojnFQdW2v2QB",
        "outputId": "157de579-a99b-4e2d-bc90-5dc232d97107"
      },
      "execution_count": null,
      "outputs": [
        {
          "output_type": "stream",
          "name": "stdout",
          "text": [
            "Sum of all values present in D --> 37.4\n"
          ]
        }
      ]
    },
    {
      "cell_type": "code",
      "source": [
        "#vi) Wap to update value of 3 to 7.1\n",
        "D[3]=7.1\n",
        "print(\"After updating value of 3 to 7.1 -->\",D)"
      ],
      "metadata": {
        "colab": {
          "base_uri": "https://localhost:8080/"
        },
        "id": "DGdEPmzhv2UB",
        "outputId": "459df880-e170-4790-c043-a4c76e3c7473"
      },
      "execution_count": null,
      "outputs": [
        {
          "output_type": "stream",
          "name": "stdout",
          "text": [
            "After updating value of 3 to 7.1 --> {1: 5.6, 3: 7.1, 4: 8.7, 5: 7.7, 8: 8.8}\n"
          ]
        }
      ]
    },
    {
      "cell_type": "code",
      "source": [
        "#vii) Wap to clear the dictionary\n",
        "del D\n",
        "print(\"Dictionary D is deleted\")"
      ],
      "metadata": {
        "colab": {
          "base_uri": "https://localhost:8080/"
        },
        "id": "gJX2AcGnv2XB",
        "outputId": "cb811fae-0c41-4b25-db1e-93c726831333"
      },
      "execution_count": null,
      "outputs": [
        {
          "output_type": "stream",
          "name": "stdout",
          "text": [
            "Dictionary D is deleted\n"
          ]
        }
      ]
    },
    {
      "cell_type": "markdown",
      "source": [
        "Q3 S1=[10,20,30,40,50,60] ; S2=[40,50,60,70,80,90]"
      ],
      "metadata": {
        "id": "c3bLh4dUxSa9"
      }
    },
    {
      "cell_type": "code",
      "source": [
        "S1={10,20,30,40,50,60}\n",
        "S2={40,50,60,70,80,90}\n",
        "print(\"Set 1 -->\",S1)\n",
        "print(\"Set 2 -->\",S2)"
      ],
      "metadata": {
        "colab": {
          "base_uri": "https://localhost:8080/"
        },
        "id": "xJw1RFIvxdVZ",
        "outputId": "8c5a748d-d1b4-457c-e77a-e2c6d7fab2af"
      },
      "execution_count": null,
      "outputs": [
        {
          "output_type": "stream",
          "name": "stdout",
          "text": [
            "Set 1 --> {50, 20, 40, 10, 60, 30}\n",
            "Set 2 --> {80, 50, 70, 40, 90, 60}\n"
          ]
        }
      ]
    },
    {
      "cell_type": "code",
      "source": [
        "#i) Add 55 and 66 in S1\n",
        "S1.add(55)\n",
        "S1.add(66)\n",
        "print(\"After adding 55 and 66 -->\",S1)\n",
        "\n",
        "#ii) to remove 10 and 30 from S1\n",
        "S1.remove(10)\n",
        "S1.remove(30)\n",
        "print(\"After removing 10 and 30 -->\",S1)"
      ],
      "metadata": {
        "colab": {
          "base_uri": "https://localhost:8080/"
        },
        "id": "_xlQjtzRxl-X",
        "outputId": "e6a3ab19-d086-4d45-ee97-e7e0baf1c5ba"
      },
      "execution_count": null,
      "outputs": [
        {
          "output_type": "stream",
          "name": "stdout",
          "text": [
            "After adding 55 and 66 --> {50, 66, 20, 55, 40, 10, 60, 30}\n",
            "After removing 10 and 30 --> {50, 66, 20, 55, 40, 60}\n"
          ]
        }
      ]
    },
    {
      "cell_type": "code",
      "source": [
        "#iii) Check 40 is present or not in S1\n",
        "if 40 in S1:\n",
        "  print(\"40 is present in set 1\")\n",
        "else:\n",
        "  print(\"40 is n't present in set 1\")"
      ],
      "metadata": {
        "colab": {
          "base_uri": "https://localhost:8080/"
        },
        "id": "2xAbyDrbxl64",
        "outputId": "85f1478a-b2af-4008-8204-bf987cc02a47"
      },
      "execution_count": null,
      "outputs": [
        {
          "output_type": "stream",
          "name": "stdout",
          "text": [
            "40 is present in set 1\n"
          ]
        }
      ]
    },
    {
      "cell_type": "code",
      "source": [
        "#iv) Union b/w S1 and S2\n",
        "S1=S1.union(S2)\n",
        "print(\"Union of S1 and S2 -->\",S1)\n",
        "\n",
        "#v)Intersection b/w S1 and S2\n",
        "S3=S1.intersection(S2)\n",
        "print(\"Intersection of S1 and S2\",S3)\n",
        "\n",
        "#vi) Find S1-S2\n",
        "S1=S1.difference(S2)\n",
        "print(\"S1-S2 -->\",S1)"
      ],
      "metadata": {
        "colab": {
          "base_uri": "https://localhost:8080/"
        },
        "id": "HGXUJlNDxlup",
        "outputId": "f7070a8d-3eea-494e-b90b-13292167a2e7"
      },
      "execution_count": null,
      "outputs": [
        {
          "output_type": "stream",
          "name": "stdout",
          "text": [
            "Union of S1 and S2 --> {66, 70, 40, 80, 50, 20, 55, 90, 60}\n",
            "Intersection of S1 and S2 {70, 40, 80, 50, 90, 60}\n",
            "S1-S2 --> {66, 20, 55}\n"
          ]
        }
      ]
    },
    {
      "cell_type": "markdown",
      "source": [
        "Q4 Write the program\n",
        "(i) Print 100 random strings b/w length of 6 and 8\n",
        "(ii) Print all prime numbers b/w 600 and 800\n",
        "(iii) Print all numbers b/w 100 and 1000 divisible by 7 and 9"
      ],
      "metadata": {
        "id": "eWbAkxUqywy5"
      }
    },
    {
      "cell_type": "code",
      "source": [
        "#i)\n",
        "import random as r\n",
        "import string as s\n",
        "for i in range(100):\n",
        "  length=r.randint(6,8)\n",
        "  print(''.join(r.choices(s.ascii_letters,k=length)))"
      ],
      "metadata": {
        "colab": {
          "base_uri": "https://localhost:8080/"
        },
        "id": "q3nuKE8Om62T",
        "outputId": "5c48c2a9-52b8-4aed-c0f3-31ebae04008f"
      },
      "execution_count": null,
      "outputs": [
        {
          "output_type": "stream",
          "name": "stdout",
          "text": [
            "kZhaJvc\n",
            "dUqYtYns\n",
            "StewnTq\n",
            "JvZZqIpS\n",
            "SObSZOGJ\n",
            "QFcFBYx\n",
            "SsPVdZk\n",
            "YAhCLJ\n",
            "wrFbvz\n",
            "ehugaH\n",
            "SVZqqxhK\n",
            "GfGIdyY\n",
            "QCryOeFC\n",
            "yyfhdZyB\n",
            "jFMZAG\n",
            "vBfxao\n",
            "nsoeSkR\n",
            "yhRYoM\n",
            "JMBMesAp\n",
            "maXaJmz\n",
            "dtgsxKGH\n",
            "dBkCmbxk\n",
            "HTWBgECc\n",
            "qJdGSY\n",
            "uaqNCS\n",
            "UphQjlF\n",
            "ODpjoh\n",
            "HWWWOF\n",
            "aEhooqd\n",
            "lOjoef\n",
            "cBPBzR\n",
            "HiqIrdN\n",
            "xUaArLO\n",
            "QKCVLnm\n",
            "uAxJACBd\n",
            "JcgMbG\n",
            "gIJyWXa\n",
            "BtNmzHk\n",
            "wKxQssv\n",
            "fcEoKF\n",
            "TfUnOpNv\n",
            "EuPQaXo\n",
            "fFlcaiQY\n",
            "huGwtMD\n",
            "SOyjpHn\n",
            "YiWZKcG\n",
            "tIoGvlj\n",
            "IlHbidjl\n",
            "qwsqPYmQ\n",
            "NhHzbAdU\n",
            "RvjoRvex\n",
            "bXLTvszA\n",
            "YufKhW\n",
            "HZPhIk\n",
            "yynKAsJ\n",
            "UkVVEot\n",
            "zhTcGX\n",
            "GerzLayb\n",
            "iHcuVIO\n",
            "QMySVl\n",
            "QpYlPrDE\n",
            "HYSvcDz\n",
            "pdKOXk\n",
            "JRDVMK\n",
            "QBbAHMM\n",
            "UxQsgEJz\n",
            "GPhhYUJt\n",
            "fssNAEA\n",
            "DGZFWu\n",
            "rEQLXqhP\n",
            "cpRuEs\n",
            "cGMywH\n",
            "qGEceJNr\n",
            "cNAXOf\n",
            "FCEVwYU\n",
            "myrXRHn\n",
            "jemaOx\n",
            "NocMoewC\n",
            "eLlZfhY\n",
            "fFUuGejA\n",
            "BDqIFV\n",
            "pctEbK\n",
            "lsthXw\n",
            "WBkwBvz\n",
            "elDCPdTo\n",
            "DMciffL\n",
            "vgARkrEO\n",
            "CqCclyxs\n",
            "YqZDbnXE\n",
            "fLpQDt\n",
            "PthzLCKL\n",
            "lizRcnXm\n",
            "dBwIOU\n",
            "jQpWSDb\n",
            "PSrOVHJ\n",
            "zCZKDjiV\n",
            "RadoePO\n",
            "NCEdzQG\n",
            "OHnnFPd\n",
            "VRLFWUaA\n"
          ]
        }
      ]
    },
    {
      "cell_type": "code",
      "source": [
        "#ii)\n",
        "for i in range(600,800):\n",
        "  count=0\n",
        "  for j in range(1,i+1):\n",
        "    if i%j==0:\n",
        "      count+=1\n",
        "  if count==2:\n",
        "    print(i)"
      ],
      "metadata": {
        "colab": {
          "base_uri": "https://localhost:8080/"
        },
        "id": "42R2HUNJmbsK",
        "outputId": "7afac59b-47f9-44f6-c145-516516cc7e2e"
      },
      "execution_count": null,
      "outputs": [
        {
          "output_type": "stream",
          "name": "stdout",
          "text": [
            "601\n",
            "607\n",
            "613\n",
            "617\n",
            "619\n",
            "631\n",
            "641\n",
            "643\n",
            "647\n",
            "653\n",
            "659\n",
            "661\n",
            "673\n",
            "677\n",
            "683\n",
            "691\n",
            "701\n",
            "709\n",
            "719\n",
            "727\n",
            "733\n",
            "739\n",
            "743\n",
            "751\n",
            "757\n",
            "761\n",
            "769\n",
            "773\n",
            "787\n",
            "797\n"
          ]
        }
      ]
    },
    {
      "cell_type": "code",
      "source": [
        "#iii)\n",
        "print(\"Numbers divisible by 7 and 9 --> \\t\")\n",
        "for i in range(100,1000):\n",
        "  if i%7==0 and i%9==0:\n",
        "    print(i)"
      ],
      "metadata": {
        "colab": {
          "base_uri": "https://localhost:8080/"
        },
        "id": "wwEi7x30muMw",
        "outputId": "fe492859-dfef-4245-9040-dc296e96f324"
      },
      "execution_count": null,
      "outputs": [
        {
          "output_type": "stream",
          "name": "stdout",
          "text": [
            "Numbers divisible by 7 and 9 --> \t\n",
            "126\n",
            "189\n",
            "252\n",
            "315\n",
            "378\n",
            "441\n",
            "504\n",
            "567\n",
            "630\n",
            "693\n",
            "756\n",
            "819\n",
            "882\n",
            "945\n"
          ]
        }
      ]
    },
    {
      "cell_type": "markdown",
      "source": [
        "Q5 create 2 lists of 10 random numbers b/w 10 and 30"
      ],
      "metadata": {
        "id": "Qb9OamQfPRgL"
      }
    },
    {
      "cell_type": "code",
      "source": [
        "import random as r\n",
        "L1=r.sample(range(10,30),10)\n",
        "L2=r.sample(range(10,30),10)\n",
        "print(\"list 1 -->\",L1)\n",
        "print(\"list 2 -->\",L2)\n",
        "\n",
        "#i)Common number in two list\n",
        "L3=set(L1)\n",
        "L4=set(L2)\n",
        "print(\"Common numbers in two list -->\",list(L3.intersection(L4)))\n",
        "\n",
        "##ii)\n",
        "print(\"Unique number in two list -->\",list(L3.symmetric_difference(L4)))\n",
        "\n",
        "#iii) Minimum in both the list\n",
        "print(\"Minimum in both the list -->\",min(L1+L2))\n",
        "\n",
        "#iv) Maximum in both the list\n",
        "print(\"Maximum in both the list -->\",max(L1+L2))\n",
        "\n",
        "#v) Sum of both the lists\n",
        "print(\"Sum of both the lists -->\",sum(L1+L2))"
      ],
      "metadata": {
        "colab": {
          "base_uri": "https://localhost:8080/"
        },
        "id": "OA7RCJCbPREO",
        "outputId": "0ab1bb6e-0339-4ee6-c7fb-45c95343520b"
      },
      "execution_count": null,
      "outputs": [
        {
          "output_type": "stream",
          "name": "stdout",
          "text": [
            "list 1 --> [20, 17, 15, 11, 10, 14, 28, 21, 16, 27]\n",
            "list 2 --> [21, 22, 26, 10, 11, 27, 17, 25, 18, 12]\n",
            "Common numbers in two list --> [10, 11, 17, 21, 27]\n",
            "Unique number in two list --> [12, 14, 15, 16, 18, 20, 22, 25, 26, 28]\n",
            "Minimum in both the list --> 10\n",
            "Maximum in both the list --> 28\n",
            "Sum of both the lists --> 368\n"
          ]
        }
      ]
    },
    {
      "cell_type": "markdown",
      "source": [
        "Q6 Create 100 randoms numbers b/w 100 and 900"
      ],
      "metadata": {
        "id": "ASRm0H8GRAnq"
      }
    },
    {
      "cell_type": "code",
      "source": [
        "import random as r\n",
        "L=r.sample(range(100,900),100)\n",
        "print(\"List -->\",L)\n",
        "\n",
        "#i) Odd numbers\n",
        "print(\"Odd numbers in list -->\")\n",
        "for i in range(0,len(L)):\n",
        "  if L[i]%2==1:\n",
        "    print(L[i])\n"
      ],
      "metadata": {
        "colab": {
          "base_uri": "https://localhost:8080/"
        },
        "id": "iKySDxOiREoY",
        "outputId": "7ea68ebd-b910-4c2d-b092-0f776686419a"
      },
      "execution_count": null,
      "outputs": [
        {
          "output_type": "stream",
          "name": "stdout",
          "text": [
            "List --> [653, 176, 829, 528, 600, 354, 388, 618, 155, 270, 188, 650, 289, 707, 836, 473, 749, 347, 257, 361, 894, 673, 427, 101, 352, 234, 500, 899, 827, 411, 253, 175, 296, 574, 757, 852, 192, 322, 228, 406, 429, 216, 325, 372, 348, 164, 610, 585, 136, 366, 297, 435, 480, 719, 129, 245, 512, 403, 170, 575, 104, 872, 466, 567, 124, 142, 324, 459, 242, 189, 107, 519, 464, 213, 357, 351, 404, 443, 740, 373, 205, 838, 426, 134, 236, 238, 844, 451, 677, 619, 168, 514, 144, 558, 572, 722, 503, 565, 391, 816]\n",
            "Odd numbers in list -->\n",
            "653\n",
            "829\n",
            "155\n",
            "289\n",
            "707\n",
            "473\n",
            "749\n",
            "347\n",
            "257\n",
            "361\n",
            "673\n",
            "427\n",
            "101\n",
            "899\n",
            "827\n",
            "411\n",
            "253\n",
            "175\n",
            "757\n",
            "429\n",
            "325\n",
            "585\n",
            "297\n",
            "435\n",
            "719\n",
            "129\n",
            "245\n",
            "403\n",
            "575\n",
            "567\n",
            "459\n",
            "189\n",
            "107\n",
            "519\n",
            "213\n",
            "357\n",
            "351\n",
            "443\n",
            "373\n",
            "205\n",
            "451\n",
            "677\n",
            "619\n",
            "503\n",
            "565\n",
            "391\n"
          ]
        }
      ]
    },
    {
      "cell_type": "code",
      "source": [
        "#ii) Even numbers\n",
        "print(\"Even numbers in list-->\")\n",
        "for i in range(0,len(L)):\n",
        "  if L[i]%2==0:\n",
        "    print(L[i])"
      ],
      "metadata": {
        "colab": {
          "base_uri": "https://localhost:8080/"
        },
        "id": "KLSTfY8nSKrd",
        "outputId": "4cef5c22-a505-4e26-cb26-87c9259ca6a9"
      },
      "execution_count": null,
      "outputs": [
        {
          "output_type": "stream",
          "name": "stdout",
          "text": [
            "Even numbers in list-->\n",
            "176\n",
            "528\n",
            "600\n",
            "354\n",
            "388\n",
            "618\n",
            "270\n",
            "188\n",
            "650\n",
            "836\n",
            "894\n",
            "352\n",
            "234\n",
            "500\n",
            "296\n",
            "574\n",
            "852\n",
            "192\n",
            "322\n",
            "228\n",
            "406\n",
            "216\n",
            "372\n",
            "348\n",
            "164\n",
            "610\n",
            "136\n",
            "366\n",
            "480\n",
            "512\n",
            "170\n",
            "104\n",
            "872\n",
            "466\n",
            "124\n",
            "142\n",
            "324\n",
            "242\n",
            "464\n",
            "404\n",
            "740\n",
            "838\n",
            "426\n",
            "134\n",
            "236\n",
            "238\n",
            "844\n",
            "168\n",
            "514\n",
            "144\n",
            "558\n",
            "572\n",
            "722\n",
            "816\n"
          ]
        }
      ]
    },
    {
      "cell_type": "code",
      "source": [
        "#iii)Prime numbers in  list\n",
        "print(\"Prime numbers in list -->\")\n",
        "for i in range(0,len(L)):\n",
        "  count=0\n",
        "  for j in range(1,L[i]+1):\n",
        "    if L[i]%j==0:\n",
        "      count+=1\n",
        "  if count==2:\n",
        "    print(L[i])"
      ],
      "metadata": {
        "colab": {
          "base_uri": "https://localhost:8080/"
        },
        "id": "3aLXYQxwSK8r",
        "outputId": "4e55aa78-ba20-466d-9bc4-006b583e1dbb"
      },
      "execution_count": null,
      "outputs": [
        {
          "output_type": "stream",
          "name": "stdout",
          "text": [
            "Prime numbers in list -->\n",
            "653\n",
            "829\n",
            "347\n",
            "257\n",
            "673\n",
            "101\n",
            "827\n",
            "757\n",
            "719\n",
            "107\n",
            "443\n",
            "373\n",
            "677\n",
            "619\n",
            "503\n"
          ]
        }
      ]
    },
    {
      "cell_type": "markdown",
      "source": [],
      "metadata": {
        "id": "Ldl1d6iLlF1k"
      }
    },
    {
      "cell_type": "markdown",
      "source": [
        "Q7 D={1:\"One\",2:\"Two\",3:\"Three\",4:\"Four\",5:\"Five\"}"
      ],
      "metadata": {
        "id": "ESGehPOuztxj"
      }
    },
    {
      "cell_type": "code",
      "source": [
        "D={1:\"One\",2:\"Two\",3:\"Three\",4:\"Four\",5:\"Five\"}\n",
        "print(\"Dictionary\",D)"
      ],
      "metadata": {
        "colab": {
          "base_uri": "https://localhost:8080/"
        },
        "id": "Ev4QJH7iz8p4",
        "outputId": "4a4e2e5f-9ee1-4fc7-9191-a0cda767a474"
      },
      "execution_count": null,
      "outputs": [
        {
          "output_type": "stream",
          "name": "stdout",
          "text": [
            "Dictionary {1: 'One', 2: 'Two', 3: 'Three', 4: 'Four', 5: 'Five'}\n"
          ]
        }
      ]
    },
    {
      "cell_type": "code",
      "source": [
        "print(D[1])\n",
        "print(D[2])\n",
        "print(D[3])"
      ],
      "metadata": {
        "colab": {
          "base_uri": "https://localhost:8080/"
        },
        "id": "hEDxueaAz829",
        "outputId": "c42823bb-79ba-4fc1-dacc-1a9e19516f6e"
      },
      "execution_count": null,
      "outputs": [
        {
          "output_type": "stream",
          "name": "stdout",
          "text": [
            "One\n",
            "Two\n",
            "Three\n"
          ]
        }
      ]
    },
    {
      "cell_type": "markdown",
      "source": [
        "**Q8** **100 random strings b/w 10 and 15**"
      ],
      "metadata": {
        "id": "3Lfyia7fkcZB"
      }
    },
    {
      "cell_type": "code",
      "source": [
        "import random as r\n",
        "import string as s\n",
        "for i in range(100):\n",
        "  length=r.randint(10,15)\n",
        "  print(''.join(r.choices(s.ascii_letters,k=length)))"
      ],
      "metadata": {
        "colab": {
          "base_uri": "https://localhost:8080/"
        },
        "id": "Vwuncsp2kbbz",
        "outputId": "23269206-0da8-463b-f240-7c69c6b47b5d"
      },
      "execution_count": 5,
      "outputs": [
        {
          "output_type": "stream",
          "name": "stdout",
          "text": [
            "jvLoQmFGGLZqjeq\n",
            "DXnkvLvPtCQtRw\n",
            "MKcQRuzNTYyObzP\n",
            "BNvbzdvwEtfOT\n",
            "gyuVKSFxwONz\n",
            "ghAzLlNjcpMAS\n",
            "rExxIcAXCPN\n",
            "vSpEEScUdSdGdB\n",
            "yHyMBycZWttTg\n",
            "lupBMhitOJedViV\n",
            "LcTnSUROjsATnFa\n",
            "PPOqbwAGXEDglxY\n",
            "IEtjpKPlIKsNnz\n",
            "wKWQlNPInudltsj\n",
            "qTHfRbdoNoWD\n",
            "DsTzOyXCEXbNoy\n",
            "cCZQuTUhdJF\n",
            "fbVQPuEXPtVTE\n",
            "UUZHDuaHKmW\n",
            "BRdqSgqCbdvlTw\n",
            "HqOoqQUKGEyU\n",
            "vOQSBgxqTfCO\n",
            "fFZzDqjtVxuu\n",
            "RoojFwOndKnUE\n",
            "pdUseqqqMaaaro\n",
            "sZdVMszQxFJMLR\n",
            "szXitUoHazcaOs\n",
            "sYkXvkcaUk\n",
            "xvldRAswFpwyk\n",
            "kcPwTVHWfNlKaN\n",
            "xfNRZQVUPafP\n",
            "hJuZCzaazWX\n",
            "RlTNArCZpxhzC\n",
            "rWCfAiLMJWiDAw\n",
            "IaoipoAURCZqn\n",
            "KvUGvhbjyh\n",
            "MHBrfpUSmTegEhy\n",
            "JJnuMwugKme\n",
            "VFlNlVAcyw\n",
            "ZoePWTjTefKtE\n",
            "vDusZjdiXk\n",
            "gdjPibptsqySvOH\n",
            "PZUeIkpNHiqxYP\n",
            "PCpNoRTgORdVp\n",
            "reBkSXsjYFvOHZ\n",
            "mHNACYPoyAD\n",
            "FbxUugrCwo\n",
            "mequLmTagJE\n",
            "hzNTFYvDNfhvC\n",
            "ZGToTouyif\n",
            "dMROLMdhLAGqbs\n",
            "txDTjeEqPV\n",
            "xMDbbHIFUJtlT\n",
            "DbXjNAVjlbMfj\n",
            "fgFEPhiqFLrd\n",
            "wGfUttjTeeoecO\n",
            "bGSAdmKikY\n",
            "enBKdagOwVQIXM\n",
            "QcGrEvzHpXzaH\n",
            "tvkEBvSZOOHoZ\n",
            "OxDxAYzSpOu\n",
            "oSJyRcmUsjYdQy\n",
            "jItxFGAKKxurVFW\n",
            "evXWUDPsjEW\n",
            "iTsQyxSeRAvK\n",
            "mYmjQiJGNH\n",
            "UsauFErhzOCnjAm\n",
            "sBvvAxZQkPxazx\n",
            "BDIPapiwLpPWsnS\n",
            "npYJgxeaLUxRj\n",
            "xLMmfrHThguEdkE\n",
            "kFVlHNhueopq\n",
            "LoCkqdFFba\n",
            "vHuSSbyGHwMcD\n",
            "FuYvIqKJcxs\n",
            "SnHcaiNaIv\n",
            "OvahDCxaMmjW\n",
            "dTGLmDSwSK\n",
            "oGOmNdRSZIr\n",
            "uzpcVlhuhDm\n",
            "ZlyEuySYlIejC\n",
            "nNvfRfyyMEgBFX\n",
            "KcRbizcKMH\n",
            "uxwAAXctoZcK\n",
            "EqEKURWHLSPm\n",
            "fJAlDHQrGHp\n",
            "FZEUwlOvBzcKh\n",
            "KlPnxriUWnL\n",
            "UAQxhIYPzQJPomh\n",
            "CjZuODZXkL\n",
            "sgCnAQwIcYuAA\n",
            "UVKzXituxhl\n",
            "hyAuoOqbzMV\n",
            "mabfJHNQYMeGKTe\n",
            "oJmixTIvdzej\n",
            "MGJfDiwCtf\n",
            "BymPJBQIVlr\n",
            "tkkQqAxBVpPD\n",
            "gDvswbtIZVKwn\n",
            "caGiuYNwFbrO\n"
          ]
        }
      ]
    },
    {
      "cell_type": "markdown",
      "source": [
        "**Q9** **Print prime number b/w 600 qnd 800**"
      ],
      "metadata": {
        "id": "oix_tc4Wlx7b"
      }
    },
    {
      "cell_type": "code",
      "source": [
        "for i in range(600,800):\n",
        "  count=0\n",
        "  for j in range(1,i+1):\n",
        "    if i%j==0:\n",
        "      count+=1\n",
        "  if count==2:\n",
        "    print(i)"
      ],
      "metadata": {
        "colab": {
          "base_uri": "https://localhost:8080/"
        },
        "id": "h7BS78vBl-6D",
        "outputId": "203536c4-6b40-4b88-da44-d98cf473b72c"
      },
      "execution_count": 17,
      "outputs": [
        {
          "output_type": "stream",
          "name": "stdout",
          "text": [
            "601\n",
            "607\n",
            "613\n",
            "617\n",
            "619\n",
            "631\n",
            "641\n",
            "643\n",
            "647\n",
            "653\n",
            "659\n",
            "661\n",
            "673\n",
            "677\n",
            "683\n",
            "691\n",
            "701\n",
            "709\n",
            "719\n",
            "727\n",
            "733\n",
            "739\n",
            "743\n",
            "751\n",
            "757\n",
            "761\n",
            "769\n",
            "773\n",
            "787\n",
            "797\n"
          ]
        }
      ]
    },
    {
      "cell_type": "markdown",
      "source": [
        "**Q10** **Calculate time taken by the program**"
      ],
      "metadata": {
        "id": "CWN1UZu8nA8N"
      }
    },
    {
      "cell_type": "code",
      "source": [
        "import time as t\n",
        "t1=t.time()\n",
        "for i in range(600,800):\n",
        "  count=0\n",
        "  for j in range(1,i+1):\n",
        "    if i%j==0:\n",
        "      count+=1\n",
        "  if count==2:\n",
        "    print(i)\n",
        "t.sleep(1)\n",
        "t3=t.time()\n",
        "print(f\"Total runtime of the program is {t3-t1} seconds\")"
      ],
      "metadata": {
        "colab": {
          "base_uri": "https://localhost:8080/"
        },
        "id": "TG17OHxtnIHl",
        "outputId": "b94d23f2-c11b-4bc3-fc6a-89181a536f90"
      },
      "execution_count": 18,
      "outputs": [
        {
          "output_type": "stream",
          "name": "stdout",
          "text": [
            "601\n",
            "607\n",
            "613\n",
            "617\n",
            "619\n",
            "631\n",
            "641\n",
            "643\n",
            "647\n",
            "653\n",
            "659\n",
            "661\n",
            "673\n",
            "677\n",
            "683\n",
            "691\n",
            "701\n",
            "709\n",
            "719\n",
            "727\n",
            "733\n",
            "739\n",
            "743\n",
            "751\n",
            "757\n",
            "761\n",
            "769\n",
            "773\n",
            "787\n",
            "797\n",
            "Total runtime of the program is 1.0163886547088623 seconds\n"
          ]
        }
      ]
    },
    {
      "cell_type": "markdown",
      "source": [
        "**Q11**  **Time taken by number of elements present in list and plot the time graph**"
      ],
      "metadata": {
        "id": "KeCNsM9XpGGD"
      }
    },
    {
      "cell_type": "code",
      "source": [
        "#Time Taken 5000 elements of list\n",
        "import time as t\n",
        "t1=t.time()\n",
        "for j in range(5000):\n",
        "  x=[1 for i in range(5000)]\n",
        "\n",
        "t.sleep(5)\n",
        "t2=t.time()\n",
        "print(\"Time taken -->\",t2-t1)"
      ],
      "metadata": {
        "colab": {
          "base_uri": "https://localhost:8080/"
        },
        "id": "7tc4GYr-pRTA",
        "outputId": "06a1fbf4-ce6a-4b19-fea6-835a72548fbd"
      },
      "execution_count": 11,
      "outputs": [
        {
          "output_type": "stream",
          "name": "stdout",
          "text": [
            "Time taken --> 5.724958658218384\n"
          ]
        }
      ]
    },
    {
      "cell_type": "code",
      "source": [
        "#Time taken by 10000 elements in list\n",
        "import time as t\n",
        "t1=t.time()\n",
        "for j in range(10000):\n",
        "  x=[1 for i in range(10000)]\n",
        "\n",
        "t.sleep(5)\n",
        "t2=t.time()\n",
        "print(\"Time taken -->\",t2-t1)"
      ],
      "metadata": {
        "colab": {
          "base_uri": "https://localhost:8080/"
        },
        "id": "8BNIyBzjpsli",
        "outputId": "158f778a-083d-40d3-a0ac-fc6e635c205e"
      },
      "execution_count": 13,
      "outputs": [
        {
          "output_type": "stream",
          "name": "stdout",
          "text": [
            "Time taken --> 7.953682899475098\n"
          ]
        }
      ]
    },
    {
      "cell_type": "code",
      "source": [
        "#Time taken by 15000 elements in list\n",
        "import time as t\n",
        "t1=t.time()\n",
        "for j in range(15000):\n",
        "  x=[1 for i in range(15000)]\n",
        "\n",
        "t.sleep(5)\n",
        "t2=t.time()\n",
        "print(\"Time taken -->\",t2-t1)"
      ],
      "metadata": {
        "colab": {
          "base_uri": "https://localhost:8080/"
        },
        "id": "AGGmjj1upr67",
        "outputId": "3e4c7555-3f7a-49d0-b674-fef4d518044e"
      },
      "execution_count": 14,
      "outputs": [
        {
          "output_type": "stream",
          "name": "stdout",
          "text": [
            "Time taken --> 12.140164852142334\n"
          ]
        }
      ]
    },
    {
      "cell_type": "code",
      "source": [
        "#Time taken by 20000 elements in list\n",
        "import time as t\n",
        "t1=t.time()\n",
        "for j in range(20000):\n",
        "  x=[1 for i in range(20000)]\n",
        "\n",
        "t.sleep(5)\n",
        "t2=t.time()\n",
        "print(\"Time taken -->\",t2-t1)"
      ],
      "metadata": {
        "colab": {
          "base_uri": "https://localhost:8080/"
        },
        "id": "8yVOoY3eprxY",
        "outputId": "d9c3acce-c128-48f8-f078-53e1b8873f81"
      },
      "execution_count": 15,
      "outputs": [
        {
          "output_type": "stream",
          "name": "stdout",
          "text": [
            "Time taken --> 20.282752513885498\n"
          ]
        }
      ]
    },
    {
      "cell_type": "code",
      "source": [
        "#Time taken by 25000 elements in list\n",
        "import time as t\n",
        "t1=t.time()\n",
        "for j in range(25000):\n",
        "  x=[1 for i in range(25000)]\n",
        "\n",
        "t.sleep(5)\n",
        "t2=t.time()\n",
        "print(\"Time taken -->\",t2-t1)"
      ],
      "metadata": {
        "colab": {
          "base_uri": "https://localhost:8080/"
        },
        "id": "XAK92u1uprls",
        "outputId": "5475d861-02ef-4c43-9640-518c9403947d"
      },
      "execution_count": 16,
      "outputs": [
        {
          "output_type": "stream",
          "name": "stdout",
          "text": [
            "Time taken --> 26.629680395126343\n"
          ]
        }
      ]
    },
    {
      "cell_type": "markdown",
      "source": [
        "![Screenshot (140).png](data:image/png;base64,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)"
      ],
      "metadata": {
        "id": "t2aCMyFqrhBp"
      }
    },
    {
      "cell_type": "markdown",
      "source": [
        "![Screenshot (141).png](data:image/png;base64,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)"
      ],
      "metadata": {
        "id": "8pRKNVCzrwHy"
      }
    },
    {
      "cell_type": "markdown",
      "source": [
        "Q12 Create a dictionary of student marks in five subjects and find max and min average marks"
      ],
      "metadata": {
        "id": "rbFqHqaclH-p"
      }
    },
    {
      "cell_type": "code",
      "source": [
        "D={\n",
        "    '1':[55,60,75,75,72],\n",
        "    '2':[56,87,44,33,46],\n",
        "    '3':[68,78,88,82,98],\n",
        "    '4':[78,72,78,85,88],\n",
        "    '5':[88,78,88,90,68],\n",
        "}\n",
        "print(\"Dictionary -->\",D)"
      ],
      "metadata": {
        "colab": {
          "base_uri": "https://localhost:8080/"
        },
        "id": "ugvCjnSVlO9z",
        "outputId": "e265ec1d-bec2-44df-dac7-44ac6374709b"
      },
      "execution_count": null,
      "outputs": [
        {
          "output_type": "stream",
          "name": "stdout",
          "text": [
            "Dictionary --> {'1': [55, 60, 75, 75, 72], '2': [56, 87, 44, 33, 46], '3': [68, 78, 88, 82, 98], '4': [78, 72, 78, 85, 88], '5': [88, 78, 88, 90, 68]}\n"
          ]
        }
      ]
    },
    {
      "cell_type": "code",
      "source": [
        "#Student with average and minimum marks\n",
        "total_sum_of_all_marks = 0\n",
        "for marks_list in D.values():\n",
        "    total_sum_of_all_marks += sum(marks_list)\n",
        "\n",
        "# Calculate the total number of marks across all students\n",
        "total_number_of_marks = 0\n",
        "for marks_list in D.values():\n",
        "    total_number_of_marks += len(marks_list)\n",
        "\n",
        "# Calculate the average of all marks\n",
        "average_of_all_marks = total_sum_of_all_marks / total_number_of_marks\n",
        "\n",
        "print(\"Average of all marks across all students:\", average_of_all_marks)\n",
        "\n",
        "# If you intended to find the average of the *sum* of marks for each student\n",
        "# (i.e., the average total mark per student), the code would be:\n",
        "sum_of_total_marks_per_student = 0\n",
        "for marks_list in D.values():\n",
        "    sum_of_total_marks_per_student += sum(marks_list)\n",
        "\n",
        "average_total_mark_per_student = sum_of_total_marks_per_student / len(D)\n",
        "print(\"Average total mark per student:\", average_total_mark_per_student)\n",
        "\n",
        "# To find the student with the maximum average marks and minimum average marks\n",
        "student_averages = {}\n",
        "for student_id, marks_list in D.items():\n",
        "    student_averages[student_id] = sum(marks_list) / len(marks_list)\n",
        "\n",
        "max_avg_student = max(student_averages, key=student_averages.get)\n",
        "min_avg_student = min(student_averages, key=student_averages.get)\n",
        "\n",
        "print(f\"Student with maximum average marks (ID): {max_avg_student} (Average: {student_averages[max_avg_student]:.2f})\")\n",
        "print(f\"Student with minimum average marks (ID): {min_avg_student} (Average: {student_averages[min_avg_student]:.2f})\")"
      ],
      "metadata": {
        "colab": {
          "base_uri": "https://localhost:8080/"
        },
        "id": "cBeXisTxlmPc",
        "outputId": "b73ebc7e-c0fc-48dc-97b5-6ce6f3073278"
      },
      "execution_count": null,
      "outputs": [
        {
          "output_type": "stream",
          "name": "stdout",
          "text": [
            "Average of all marks across all students: 73.2\n",
            "Average total mark per student: 366.0\n",
            "Student with maximum average marks (ID): 3 (Average: 82.80)\n",
            "Student with minimum average marks (ID): 2 (Average: 53.20)\n"
          ]
        }
      ]
    }
  ]
}